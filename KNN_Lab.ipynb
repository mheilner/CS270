{
  "cells": [
    {
      "cell_type": "markdown",
      "metadata": {
        "id": "DVL7_bgmIAPR"
      },
      "source": [
        "# K-Nearest Neighbor Lab\n",
        "Read over the sklearn info on [nearest neighbor learners](https://scikit-learn.org/stable/modules/neighbors.html#nearest-neighbors-classification)\n",
        "\n",
        "\n"
      ]
    },
    {
      "cell_type": "code",
      "execution_count": null,
      "metadata": {
        "id": "6ZbYjZZZ_yLV"
      },
      "outputs": [],
      "source": [
        "from sklearn.neighbors import KNeighborsClassifier, KNeighborsRegressor\n",
        "import numpy as np\n",
        "import pandas as pd\n",
        "from scipy.io import arff\n",
        "import matplotlib.pyplot as plt\n",
        "from sklearn.model_selection import train_test_split"
      ]
    },
    {
      "cell_type": "markdown",
      "metadata": {
        "id": "zt_6vEXpEat6"
      },
      "source": [
        "## 1 K-Nearest Neighbor (KNN) algorithm\n",
        "\n",
        "### 1.1 (15%) Basic KNN Classification\n",
        "\n",
        "Learn the [Glass data set](https://archive.ics.uci.edu/dataset/42/glass+identification) using [KNeighborsClassifier](https://scikit-learn.org/stable/modules/generated/sklearn.neighbors.KNeighborsClassifier.html#sklearn.neighbors.KNeighborsClassifier) with default parameters.\n",
        "- Randomly split your data into train/test.  Anytime we don't tell you specifics (such as what percentage is train vs test) choose your own reasonable values\n",
        "- Give typical train and test set accuracies after running with different random splits\n",
        "- Print the output probabilities for a test set (predict_proba)\n",
        "- Try it with different p values (Minkowskian exponent) and discuss any differences"
      ]
    },
    {
      "cell_type": "code",
      "source": [
        "!pip install ucimlrepo"
      ],
      "metadata": {
        "colab": {
          "base_uri": "https://localhost:8080/"
        },
        "id": "7E7Gz-oZEyLy",
        "outputId": "b57ac2de-750e-4e54-92fc-2af3e5169faa"
      },
      "execution_count": null,
      "outputs": [
        {
          "output_type": "stream",
          "name": "stdout",
          "text": [
            "Collecting ucimlrepo\n",
            "  Downloading ucimlrepo-0.0.3-py3-none-any.whl (7.0 kB)\n",
            "Installing collected packages: ucimlrepo\n",
            "Successfully installed ucimlrepo-0.0.3\n"
          ]
        }
      ]
    },
    {
      "cell_type": "code",
      "execution_count": null,
      "metadata": {
        "colab": {
          "base_uri": "https://localhost:8080/"
        },
        "id": "WA4TKbJ-Eat6",
        "outputId": "2974a379-6e60-4af1-f4b1-0e1b0c72981b"
      },
      "outputs": [
        {
          "output_type": "stream",
          "name": "stdout",
          "text": [
            "{'uci_id': 42, 'name': 'Glass Identification', 'repository_url': 'https://archive.ics.uci.edu/dataset/42/glass+identification', 'data_url': 'https://archive.ics.uci.edu/static/public/42/data.csv', 'abstract': 'From USA Forensic Science Service; 6 types of glass; defined in terms of their oxide content (i.e. Na, Fe, K, etc)', 'area': 'Physics and Chemistry', 'tasks': ['Classification'], 'characteristics': ['Multivariate'], 'num_instances': 214, 'num_features': 9, 'feature_types': ['Real'], 'demographics': [], 'target_col': ['Type_of_glass'], 'index_col': ['Id_number'], 'has_missing_values': 'no', 'missing_values_symbol': None, 'year_of_dataset_creation': 1987, 'last_updated': 'Thu Aug 10 2023', 'dataset_doi': '10.24432/C5WW2P', 'creators': ['B. German'], 'intro_paper': None, 'additional_info': {'summary': 'Vina conducted a comparison test of her rule-based system, BEAGLE, the nearest-neighbor algorithm, and discriminant analysis.  BEAGLE is a product available through VRS Consulting, Inc.; 4676 Admiralty Way, Suite 206; Marina Del Ray, CA 90292 (213) 827-7890 and FAX: -3189. In determining whether the glass was a type of \"float\" glass or not, the following results were obtained (# incorrect answers):\\r\\n\\r\\nType of Sample  -- Beagle -- NN -- DA\\r\\nWindows that were float processed (87)  -- 10 -- 12 -- 21\\r\\nWindows that were not:            (76) -- 19 -- 16 -- 22\\r\\n\\r\\nThe study of classification of types of glass was motivated by criminological investigation.  At the scene of the crime, the glass left can be used as evidence...if it is correctly identified!', 'purpose': None, 'funded_by': None, 'instances_represent': None, 'recommended_data_splits': None, 'sensitive_data': None, 'preprocessing_description': None, 'variable_info': '1. Id number: 1 to 214\\r\\n2. RI: refractive index\\r\\n3. Na: Sodium (unit measurement: weight percent in corresponding oxide, as are attributes 4-10)\\r\\n4. Mg: Magnesium\\r\\n5. Al: Aluminum\\r\\n6. Si: Silicon\\r\\n7. K: Potassium\\r\\n8. Ca: Calcium\\r\\n9. Ba: Barium\\r\\n10. Fe: Iron\\r\\n11. Type of glass: (class attribute)\\r\\n     -- 1 building_windows_float_processed\\r\\n     -- 2 building_windows_non_float_processed\\r\\n     -- 3 vehicle_windows_float_processed\\r\\n     -- 4 vehicle_windows_non_float_processed (none in this database)\\r\\n     -- 5 containers\\r\\n     -- 6 tableware\\r\\n     -- 7 headlamps', 'citation': None}}\n",
            "             name     role         type demographic       description  \\\n",
            "0       Id_number       ID      Integer        None              None   \n",
            "1              RI  Feature   Continuous        None  refractive index   \n",
            "2              Na  Feature   Continuous        None            Sodium   \n",
            "3              Mg  Feature   Continuous        None         Magnesium   \n",
            "4              Al  Feature   Continuous        None          Aluminum   \n",
            "5              Si  Feature   Continuous        None           Silicon   \n",
            "6               K  Feature   Continuous        None         Potassium   \n",
            "7              Ca  Feature   Continuous        None           Calcium   \n",
            "8              Ba  Feature   Continuous        None            Barium   \n",
            "9              Fe  Feature   Continuous        None              Iron   \n",
            "10  Type_of_glass   Target  Categorical        None              None   \n",
            "\n",
            "                                    units missing_values  \n",
            "0                                    None             no  \n",
            "1                                    None             no  \n",
            "2   weight percent in corresponding oxide             no  \n",
            "3   weight percent in corresponding oxide             no  \n",
            "4   weight percent in corresponding oxide             no  \n",
            "5   weight percent in corresponding oxide             no  \n",
            "6   weight percent in corresponding oxide             no  \n",
            "7   weight percent in corresponding oxide             no  \n",
            "8   weight percent in corresponding oxide             no  \n",
            "9   weight percent in corresponding oxide             no  \n",
            "10                                   None             no  \n"
          ]
        }
      ],
      "source": [
        "# Learn the glass data\n",
        "from ucimlrepo import fetch_ucirepo\n",
        "\n",
        "# fetch dataset\n",
        "glass_identification = fetch_ucirepo(id=42)\n",
        "\n",
        "# data (as pandas dataframes)\n",
        "X = glass_identification.data.features\n",
        "y = glass_identification.data.targets\n",
        "\n",
        "# metadata\n",
        "print(glass_identification.metadata)\n",
        "\n",
        "# variable information\n",
        "print(glass_identification.variables)\n",
        "\n",
        "# glass_identification"
      ]
    },
    {
      "cell_type": "code",
      "source": [
        "import numpy as np\n",
        "from sklearn.model_selection import train_test_split\n",
        "from sklearn.neighbors import KNeighborsClassifier\n",
        "from sklearn.metrics import accuracy_score\n",
        "\n",
        "# Split the data into training and testing sets\n",
        "X_train, X_test, y_train, y_test = train_test_split(X, y, test_size=0.3, random_state=None)\n",
        "\n",
        "# Train the KNeighborsClassifier with default parameters\n",
        "knn = KNeighborsClassifier()\n",
        "knn.fit(X_train, y_train)\n",
        "\n",
        "# Predict the test dataset\n",
        "y_pred = knn.predict(X_test)\n",
        "\n",
        "# Calculate and print the accuracy\n",
        "train_accuracy = knn.score(X_train, y_train)\n",
        "test_accuracy = accuracy_score(y_test, y_pred)\n",
        "print(f'Train Accuracy: {train_accuracy}')\n",
        "print(f'Test Accuracy: {test_accuracy}')"
      ],
      "metadata": {
        "colab": {
          "base_uri": "https://localhost:8080/"
        },
        "id": "yvFGGc0bGf77",
        "outputId": "a48b0b21-eb38-4237-bd7e-227df3ee62ae"
      },
      "execution_count": null,
      "outputs": [
        {
          "output_type": "stream",
          "name": "stdout",
          "text": [
            "Train Accuracy: 0.7449664429530202\n",
            "Test Accuracy: 0.6307692307692307\n"
          ]
        },
        {
          "output_type": "stream",
          "name": "stderr",
          "text": [
            "/usr/local/lib/python3.10/dist-packages/sklearn/neighbors/_classification.py:215: DataConversionWarning: A column-vector y was passed when a 1d array was expected. Please change the shape of y to (n_samples,), for example using ravel().\n",
            "  return self._fit(X, y)\n"
          ]
        }
      ]
    },
    {
      "cell_type": "markdown",
      "metadata": {
        "id": "3_IhezoPEat6"
      },
      "source": [
        "Discussion\n",
        "\n",
        "I loaded the data in and was able to use the API. The target column has many potential outputs and thus it is not wonderfully accurate on a stock KNN model becuase of the fact that there could be clusters that are smaller than 5. As I look at the standard of 5, I see that KNN is not about clustering but it is about looking at what is close and choosing the class by what is close. Maybe there isn't a good break point that makes these split well and that is why the accuracy is so low."
      ]
    },
    {
      "cell_type": "markdown",
      "metadata": {
        "id": "9vWiTdlbR2Xh"
      },
      "source": [
        "## 2 KNN Classification with normalization and distance weighting\n",
        "\n",
        "Use the [magic telescope](https://axon.cs.byu.edu/data/uci_class/MagicTelescope.arff) dataset\n",
        "\n",
        "### 2.1 (5%) - Without Normalization or Distance Weighting\n",
        "- Do random 80/20 train/test splits each time\n",
        "- Run with k=3 and *without* distance weighting and *without* normalization\n",
        "- Show train and test set accuracy"
      ]
    },
    {
      "cell_type": "code",
      "source": [
        "# !wget https://axon.cs.byu.edu/data/uci_class/MagicTelescope.arff"
      ],
      "metadata": {
        "id": "Po_uRWUNVc0b",
        "colab": {
          "base_uri": "https://localhost:8080/"
        },
        "outputId": "0313c392-7ed3-4b0f-e753-3a201dd5e3a8"
      },
      "execution_count": 1,
      "outputs": [
        {
          "output_type": "stream",
          "name": "stdout",
          "text": [
            "--2023-11-08 23:11:55--  https://axon.cs.byu.edu/data/uci_class/MagicTelescope.arff\n",
            "Resolving axon.cs.byu.edu (axon.cs.byu.edu)... 128.187.106.169\n",
            "Connecting to axon.cs.byu.edu (axon.cs.byu.edu)|128.187.106.169|:443... connected.\n",
            "HTTP request sent, awaiting response... 200 OK\n",
            "Length: 1483335 (1.4M)\n",
            "Saving to: ‘MagicTelescope.arff’\n",
            "\n",
            "MagicTelescope.arff 100%[===================>]   1.41M  1.35MB/s    in 1.0s    \n",
            "\n",
            "2023-11-08 23:11:57 (1.35 MB/s) - ‘MagicTelescope.arff’ saved [1483335/1483335]\n",
            "\n"
          ]
        }
      ]
    },
    {
      "cell_type": "code",
      "execution_count": null,
      "metadata": {
        "id": "4SSoasDQSKXb",
        "colab": {
          "base_uri": "https://localhost:8080/"
        },
        "outputId": "75628843-4661-413c-9f3b-c1f4a6674013"
      },
      "outputs": [
        {
          "output_type": "stream",
          "name": "stdout",
          "text": [
            "<class 'pandas.core.frame.DataFrame'>\n",
            "RangeIndex: 19020 entries, 0 to 19019\n",
            "Data columns (total 11 columns):\n",
            " #   Column     Non-Null Count  Dtype  \n",
            "---  ------     --------------  -----  \n",
            " 0   fLength:   19020 non-null  float64\n",
            " 1   fWidth:    19020 non-null  float64\n",
            " 2   fSize:     19020 non-null  float64\n",
            " 3   fConc:     19020 non-null  float64\n",
            " 4   fConc1:    19020 non-null  float64\n",
            " 5   fAsym:     19020 non-null  float64\n",
            " 6   fM3Long:   19020 non-null  float64\n",
            " 7   fM3Trans:  19020 non-null  float64\n",
            " 8   fAlpha:    19020 non-null  float64\n",
            " 9   fDist:     19020 non-null  float64\n",
            " 10  class:     19020 non-null  object \n",
            "dtypes: float64(10), object(1)\n",
            "memory usage: 1.6+ MB\n",
            "Train Accuracy: 0.8860410094637224\n",
            "Test Accuracy: 0.8070452155625657\n"
          ]
        }
      ],
      "source": [
        "# Learn magic telescope data\n",
        "from scipy.io import arff\n",
        "import pandas as pd\n",
        "import numpy as np\n",
        "from sklearn.model_selection import train_test_split\n",
        "from sklearn.neighbors import KNeighborsClassifier\n",
        "from sklearn.metrics import accuracy_score\n",
        "\n",
        "# Load the arff file\n",
        "data, meta = arff.loadarff('MagicTelescope.arff')\n",
        "magic_df = pd.DataFrame(data)\n",
        "\n",
        "\n",
        "# Convert byte to strings\n",
        "magic_df = magic_df.applymap(lambda x: x.decode('utf-8') if isinstance(x, bytes) else x)\n",
        "\n",
        "magic_df.info()\n",
        "magic_df['class:'].value_counts()\n",
        "\n",
        "X = magic_df.drop('class:', axis=1)\n",
        "y = magic_df['class:']\n",
        "\n",
        "# Split the data into training and testing sets\n",
        "X_train, X_test, y_train, y_test = train_test_split(X, y, test_size=0.2, random_state=None)\n",
        "\n",
        "# Train the KNeighborsClassifier with default parameters\n",
        "knn = KNeighborsClassifier(n_neighbors=3, weights=None)\n",
        "knn.fit(X_train, y_train)\n",
        "\n",
        "# Predict the test dataset\n",
        "y_pred = knn.predict(X_test)\n",
        "\n",
        "# Calculate and print the accuracy\n",
        "train_accuracy = knn.score(X_train, y_train)\n",
        "test_accuracy = accuracy_score(y_test, y_pred)\n",
        "print(f'Train Accuracy: {train_accuracy}')\n",
        "print(f'Test Accuracy: {test_accuracy}')"
      ]
    },
    {
      "cell_type": "markdown",
      "metadata": {
        "id": "cqQ3YpTtEat6"
      },
      "source": [
        "When I ran this model, it gets an accuracy of 80%. The Train data has an accuracy closer to 90% which suggets it could be overfitting the training data. It was pretty good at being able to get a good accuracy in relation to the glass data but of course this is a different data set and maybe other models would be able to model this so much better than this KNN. Overall it seems good with almost no tuning and straight out of the box."
      ]
    },
    {
      "cell_type": "markdown",
      "metadata": {
        "id": "jC0NPbVwEat7"
      },
      "source": [
        "### 2.2 (10%) With Normalization\n",
        "- Try it with k=3 without distance weighting but *with* normalization of input features.  You may use any reasonable normalization approach (e.g. standard min-max normalization between 0-1, z-transform, etc.)"
      ]
    },
    {
      "cell_type": "code",
      "execution_count": null,
      "metadata": {
        "id": "HoZEgjphEat7",
        "colab": {
          "base_uri": "https://localhost:8080/"
        },
        "outputId": "6028ca37-fd78-444e-a758-7cfa551adb51"
      },
      "outputs": [
        {
          "output_type": "stream",
          "name": "stdout",
          "text": [
            "   fLength:   fWidth:    fSize:    fConc:   fConc1:    fAsym:  fM3Long:  \\\n",
            "0  0.074306  0.062415  0.208043  0.430390  0.293229  0.470032  0.620576   \n",
            "1  0.082815  0.045727  0.170668  0.587794  0.558601  0.468649  0.623756   \n",
            "2  0.478241  0.530579  0.626818  0.027617  0.027263  0.556215  0.468201   \n",
            "3  0.059212  0.037338  0.117445  0.683714  0.580679  0.469558  0.570630   \n",
            "4  0.214774  0.120603  0.360674  0.345153  0.271003  0.437870  0.632050   \n",
            "\n",
            "   fM3Trans:   fAlpha:    fDist: class:  \n",
            "0   0.512493  0.445467  0.163066      g  \n",
            "1   0.507944  0.070677  0.412679      g  \n",
            "2   0.416540  0.855111  0.516926      g  \n",
            "3   0.515219  0.116100  0.233582      g  \n",
            "4   0.590373  0.051644  0.718582      g  \n",
            "Train Accuracy: 0.9006309148264984\n",
            "Test Accuracy: 0.8280757097791798\n"
          ]
        }
      ],
      "source": [
        "# Train/Predict with normalization\n",
        "from sklearn.preprocessing import MinMaxScaler\n",
        "import pandas as pd\n",
        "# Select only the continuous features\n",
        "continuous_features = magic_df.columns[:10]\n",
        "\n",
        "# Initialize the MinMaxScaler to scale between 0 and 1\n",
        "scaler = MinMaxScaler(feature_range=(0, 1))\n",
        "\n",
        "# Fit the scaler to the data and transform it\n",
        "magic_df[continuous_features] = scaler.fit_transform(magic_df[continuous_features])\n",
        "\n",
        "# Now the specified columns are normalized between 0 and 1\n",
        "print(magic_df.head())\n",
        "\n",
        "X = magic_df.drop('class:', axis=1)\n",
        "y = magic_df['class:']\n",
        "\n",
        "# Split the data into training and testing sets\n",
        "X_train, X_test, y_train, y_test = train_test_split(X, y, test_size=0.2, random_state=None)\n",
        "\n",
        "# Train the KNeighborsClassifier with default parameters\n",
        "knn = KNeighborsClassifier(n_neighbors=3, weights=None)\n",
        "knn.fit(X_train, y_train)\n",
        "\n",
        "# Predict the test dataset\n",
        "y_pred = knn.predict(X_test)\n",
        "\n",
        "# Calculate and print the accuracy\n",
        "train_accuracy = knn.score(X_train, y_train)\n",
        "test_accuracy = accuracy_score(y_test, y_pred)\n",
        "print(f'Train Accuracy: {train_accuracy}')\n",
        "print(f'Test Accuracy: {test_accuracy}')\n"
      ]
    },
    {
      "cell_type": "markdown",
      "metadata": {
        "id": "6M3cWKqiEat7"
      },
      "source": [
        "With just improving the standard scaling, it was able to make an accuracy jump of about 3 percent. This data model which is measuirng distances, would benefit greatly for min max scaling which of course we can see here. I imagine that depending on the dataset it can be more or less helpful in improving accuracy."
      ]
    },
    {
      "cell_type": "markdown",
      "metadata": {
        "id": "vEicDN_aEat7"
      },
      "source": [
        "### 2.3 (10%) With Distance Weighting\n",
        "- Try it with k=3 and with distance weighting *and* normalization"
      ]
    },
    {
      "cell_type": "code",
      "execution_count": null,
      "metadata": {
        "id": "FBH1-dTgEat7",
        "colab": {
          "base_uri": "https://localhost:8080/"
        },
        "outputId": "6f5ea8b2-f831-4d3d-facf-6efa326bac9f"
      },
      "outputs": [
        {
          "output_type": "stream",
          "name": "stdout",
          "text": [
            "Train Accuracy: 1.0\n",
            "Test Accuracy: 0.8354363827549948\n"
          ]
        }
      ],
      "source": [
        "#Train/Precdict with normalization and distance weighting\n",
        "# Train/Predict with normalization\n",
        "from sklearn.preprocessing import MinMaxScaler\n",
        "import pandas as pd\n",
        "# Using the same data from before so no need to do the scaling here\n",
        "\n",
        "# Split the data into training and testing sets\n",
        "X_train, X_test, y_train, y_test = train_test_split(X, y, test_size=0.2, random_state=None)\n",
        "\n",
        "# Train the KNeighborsClassifier with default parameters\n",
        "knn = KNeighborsClassifier(n_neighbors=3, weights='distance')\n",
        "knn.fit(X_train, y_train)\n",
        "\n",
        "# Predict the test dataset\n",
        "y_pred = knn.predict(X_test)\n",
        "\n",
        "# Calculate and print the accuracy\n",
        "train_accuracy = knn.score(X_train, y_train)\n",
        "test_accuracy = accuracy_score(y_test, y_pred)\n",
        "print(f'Train Accuracy: {train_accuracy}')\n",
        "print(f'Test Accuracy: {test_accuracy}')\n"
      ]
    },
    {
      "cell_type": "markdown",
      "metadata": {
        "id": "XT0ReqzGEat7"
      },
      "source": [
        "So this is interesting becasue the train accuracy was able to get up to pretty much 100% which is very high. I guess that distance weighting which looks at the inverse distance or takes into account more heavily the closer weights than the farther ones which would make sense in terms of accurately classifying the data."
      ]
    },
    {
      "cell_type": "markdown",
      "metadata": {
        "id": "0NGprkjXEat7"
      },
      "source": [
        "### 2.4 (10%) Different k Values\n",
        "- Using your normalized data with distance weighting, create one graph with classification accuracy on the test set on the y-axis and k values on the x-axis.\n",
        "- Use values of k from 1 to 15.  Use the same train/test split for each."
      ]
    },
    {
      "cell_type": "code",
      "execution_count": null,
      "metadata": {
        "id": "hEvOozdSEat7",
        "colab": {
          "base_uri": "https://localhost:8080/",
          "height": 564
        },
        "outputId": "24743014-92ca-4967-c5d7-0d5e3b082b75"
      },
      "outputs": [
        {
          "output_type": "display_data",
          "data": {
            "text/plain": [
              "<Figure size 1000x600 with 1 Axes>"
            ],
            "image/png": "[encoded data removed]"
          },
          "metadata": {}
        }
      ],
      "source": [
        "# Calculate and Graph classification accuracy vs k values\n",
        "import matplotlib.pyplot as plt\n",
        "from sklearn.model_selection import train_test_split\n",
        "from sklearn.neighbors import KNeighborsClassifier\n",
        "from sklearn.metrics import accuracy_score\n",
        "\n",
        "# Prepare to store accuracies for different values of k\n",
        "k_values = range(1, 16)\n",
        "accuracies = []\n",
        "\n",
        "# Run KNeighborsClassifier for k from 1 to 15\n",
        "for k in k_values:\n",
        "    knn = KNeighborsClassifier(n_neighbors=k, weights='distance')\n",
        "    knn.fit(X_train, y_train)\n",
        "    y_pred = knn.predict(X_test)\n",
        "    accuracy = accuracy_score(y_test, y_pred)\n",
        "    accuracies.append(accuracy)\n",
        "\n",
        "# Plotting the results\n",
        "plt.figure(figsize=(10, 6))\n",
        "plt.plot(k_values, accuracies, marker='o')\n",
        "plt.title('KNN with Distance Weighting: Accuracy vs. K Value')\n",
        "plt.xlabel('k value')\n",
        "plt.ylabel('Classification Accuracy')\n",
        "plt.xticks(k_values)\n",
        "plt.grid(True)\n",
        "plt.show()"
      ]
    },
    {
      "cell_type": "markdown",
      "metadata": {
        "id": "vaft3Nb2Eat7"
      },
      "source": [
        "This data shows an interesting pattern that the test accuracy doesn't get really at all past 85% but it definitely improves quite a bit as you increase the n_nearest neighbors you look at. With a dataset looking at over 1900 input rows, I would assume that it would take way more k neigbors to make this drop off and get much worse. I think with the graoh you would likely choose some number between 5 anf 8 for the accuracy that you would want to use based on lower complexity with occams razor."
      ]
    },
    {
      "cell_type": "markdown",
      "metadata": {
        "id": "SIRG42TgSR4x"
      },
      "source": [
        "## 3 KNN Regression with normalization and distance weighting\n",
        "\n",
        "Use the [sklean KNeighborsRegressor](https://scikit-learn.org/stable/modules/generated/sklearn.neighbors.KNeighborsRegressor.html#sklearn.neighbors.KNeighborsRegressor) on the [housing price prediction](https://axon.cs.byu.edu/data/uci_regression/housing.arff) problem.  \n",
        "### 3.1 (5%) Ethical Data\n",
        "Note this data set has an example of an inappropriate input feature which we discussed.  State which feature is inappropriate and discuss why."
      ]
    },
    {
      "cell_type": "markdown",
      "metadata": {
        "id": "cTBTIKOJEat8"
      },
      "source": [
        "*Discuss the innapropriate feature*\n",
        "12. B        1000(Bk - 0.63)^2 where Bk is the proportion of blacks\n",
        "%                  by town\n",
        "\n",
        "This attribute right here called B is talking about the proportion of Blacks in the area. In theory this should have no real effect on the dataset if there was perfect equality and so the presence of this attribute can suggest perpetuation of racism in the classification. If race goes into the price of a house, it is likely prejudice by nature."
      ]
    },
    {
      "cell_type": "markdown",
      "metadata": {
        "id": "QghZU9J_Eat8"
      },
      "source": [
        "### 3.2 (15%) - KNN Regression\n",
        "- Do random 80/20 train/test splits each time\n",
        "- Run with k=3\n",
        "- Print the score (coefficient of determination) and Mean Absolute Error (MAE) for the train and test set for the cases of\n",
        "  - No input normalization and no distance weighting\n",
        "  - Normalization and no distance weighting\n",
        "  - Normalization and distance weighting\n",
        "- Normalize inputs features where needed but do not normalize the output"
      ]
    },
    {
      "cell_type": "code",
      "source": [
        "# !wget https://axon.cs.byu.edu/data/uci_regression/housing.arff"
      ],
      "metadata": {
        "colab": {
          "base_uri": "https://localhost:8080/"
        },
        "id": "JKFywDlBeNpT",
        "outputId": "667ad815-4496-4974-da59-05e9b21803ec"
      },
      "execution_count": 17,
      "outputs": [
        {
          "output_type": "stream",
          "name": "stdout",
          "text": [
            "--2023-11-08 23:25:02--  https://axon.cs.byu.edu/data/uci_regression/housing.arff\n",
            "Resolving axon.cs.byu.edu (axon.cs.byu.edu)... 128.187.106.169\n",
            "Connecting to axon.cs.byu.edu (axon.cs.byu.edu)|128.187.106.169|:443... connected.\n",
            "HTTP request sent, awaiting response... 200 OK\n",
            "Length: 43733 (43K)\n",
            "Saving to: ‘housing.arff’\n",
            "\n",
            "housing.arff        100%[===================>]  42.71K   206KB/s    in 0.2s    \n",
            "\n",
            "2023-11-08 23:25:03 (206 KB/s) - ‘housing.arff’ saved [43733/43733]\n",
            "\n"
          ]
        }
      ]
    },
    {
      "cell_type": "code",
      "execution_count": null,
      "metadata": {
        "id": "KBGUn43ASiXW",
        "colab": {
          "base_uri": "https://localhost:8080/",
          "height": 751
        },
        "outputId": "5b3b1088-b0b1-4461-f1ea-1af997e81c39"
      },
      "outputs": [
        {
          "output_type": "stream",
          "name": "stdout",
          "text": [
            "<class 'pandas.core.frame.DataFrame'>\n",
            "RangeIndex: 506 entries, 0 to 505\n",
            "Data columns (total 14 columns):\n",
            " #   Column   Non-Null Count  Dtype  \n",
            "---  ------   --------------  -----  \n",
            " 0   CRIM     506 non-null    float64\n",
            " 1   ZN       506 non-null    float64\n",
            " 2   INDUS    506 non-null    float64\n",
            " 3   CHAS     506 non-null    object \n",
            " 4   NOX      506 non-null    float64\n",
            " 5   RM       506 non-null    float64\n",
            " 6   AGE      506 non-null    float64\n",
            " 7   DIS      506 non-null    float64\n",
            " 8   RAD      506 non-null    float64\n",
            " 9   TAX      506 non-null    float64\n",
            " 10  PTRATIO  506 non-null    float64\n",
            " 11  B        506 non-null    float64\n",
            " 12  LSTAT    506 non-null    float64\n",
            " 13  MEDV     506 non-null    float64\n",
            "dtypes: float64(13), object(1)\n",
            "memory usage: 55.5+ KB\n",
            "CRIM          88.96988\n",
            "ZN           100.00000\n",
            "INDUS         27.28000\n",
            "NOX            0.48600\n",
            "RM             5.21900\n",
            "AGE           97.10000\n",
            "DIS           10.99690\n",
            "RAD           23.00000\n",
            "TAX        71204.00000\n",
            "PTRATIO        9.40000\n",
            "B            396.58000\n",
            "LSTAT         36.24000\n",
            "MEDV          45.00000\n",
            "dtype: float64\n"
          ]
        },
        {
          "output_type": "execute_result",
          "data": {
            "text/plain": [
              "                                     Method  Train Score  Test Score  \\\n",
              "0  No normalization / No distance weighting     0.779036    0.499915   \n",
              "1     Normalization / No distance weighting     0.889404    0.676287   \n",
              "2        Normalization / Distance weighting     1.000000    0.717480   \n",
              "\n",
              "   Train MAE  Test MAE  \n",
              "0   2.858498  4.714379  \n",
              "1   1.906023  3.271895  \n",
              "2   0.000000  3.059460  "
            ],
            "text/html": [
              "\n",
              "  <div id=\"df-b010fe05-5ad1-4b5f-b63b-6e0b34823576\" class=\"colab-df-container\">\n",
              "    <div>\n",
              "<style scoped>\n",
              "    .dataframe tbody tr th:only-of-type {\n",
              "        vertical-align: middle;\n",
              "    }\n",
              "\n",
              "    .dataframe tbody tr th {\n",
              "        vertical-align: top;\n",
              "    }\n",
              "\n",
              "    .dataframe thead th {\n",
              "        text-align: right;\n",
              "    }\n",
              "</style>\n",
              "<table border=\"1\" class=\"dataframe\">\n",
              "  <thead>\n",
              "    <tr style=\"text-align: right;\">\n",
              "      <th></th>\n",
              "      <th>Method</th>\n",
              "      <th>Train Score</th>\n",
              "      <th>Test Score</th>\n",
              "      <th>Train MAE</th>\n",
              "      <th>Test MAE</th>\n",
              "    </tr>\n",
              "  </thead>\n",
              "  <tbody>\n",
              "    <tr>\n",
              "      <th>0</th>\n",
              "      <td>No normalization / No distance weighting</td>\n",
              "      <td>0.779036</td>\n",
              "      <td>0.499915</td>\n",
              "      <td>2.858498</td>\n",
              "      <td>4.714379</td>\n",
              "    </tr>\n",
              "    <tr>\n",
              "      <th>1</th>\n",
              "      <td>Normalization / No distance weighting</td>\n",
              "      <td>0.889404</td>\n",
              "      <td>0.676287</td>\n",
              "      <td>1.906023</td>\n",
              "      <td>3.271895</td>\n",
              "    </tr>\n",
              "    <tr>\n",
              "      <th>2</th>\n",
              "      <td>Normalization / Distance weighting</td>\n",
              "      <td>1.000000</td>\n",
              "      <td>0.717480</td>\n",
              "      <td>0.000000</td>\n",
              "      <td>3.059460</td>\n",
              "    </tr>\n",
              "  </tbody>\n",
              "</table>\n",
              "</div>\n",
              "    <div class=\"colab-df-buttons\">\n",
              "\n",
              "  <div class=\"colab-df-container\">\n",
              "    <button class=\"colab-df-convert\" onclick=\"convertToInteractive('df-b010fe05-5ad1-4b5f-b63b-6e0b34823576')\"\n",
              "            title=\"Convert this dataframe to an interactive table.\"\n",
              "            style=\"display:none;\">\n",
              "\n",
              "  <svg xmlns=\"http://www.w3.org/2000/svg\" height=\"24px\" viewBox=\"0 -960 960 960\">\n",
              "    <path d=\"M120-120v-720h720v720H120Zm60-500h600v-160H180v160Zm220 220h160v-160H400v160Zm0 220h160v-160H400v160ZM180-400h160v-160H180v160Zm440 0h160v-160H620v160ZM180-180h160v-160H180v160Zm440 0h160v-160H620v160Z\"/>\n",
              "  </svg>\n",
              "    </button>\n",
              "\n",
              "  <style>\n",
              "    .colab-df-container {\n",
              "      display:flex;\n",
              "      gap: 12px;\n",
              "    }\n",
              "\n",
              "    .colab-df-convert {\n",
              "      background-color: #E8F0FE;\n",
              "      border: none;\n",
              "      border-radius: 50%;\n",
              "      cursor: pointer;\n",
              "      display: none;\n",
              "      fill: #1967D2;\n",
              "      height: 32px;\n",
              "      padding: 0 0 0 0;\n",
              "      width: 32px;\n",
              "    }\n",
              "\n",
              "    .colab-df-convert:hover {\n",
              "      background-color: #E2EBFA;\n",
              "      box-shadow: 0px 1px 2px rgba(60, 64, 67, 0.3), 0px 1px 3px 1px rgba(60, 64, 67, 0.15);\n",
              "      fill: #174EA6;\n",
              "    }\n",
              "\n",
              "    .colab-df-buttons div {\n",
              "      margin-bottom: 4px;\n",
              "    }\n",
              "\n",
              "    [theme=dark] .colab-df-convert {\n",
              "      background-color: #3B4455;\n",
              "      fill: #D2E3FC;\n",
              "    }\n",
              "\n",
              "    [theme=dark] .colab-df-convert:hover {\n",
              "      background-color: #434B5C;\n",
              "      box-shadow: 0px 1px 3px 1px rgba(0, 0, 0, 0.15);\n",
              "      filter: drop-shadow(0px 1px 2px rgba(0, 0, 0, 0.3));\n",
              "      fill: #FFFFFF;\n",
              "    }\n",
              "  </style>\n",
              "\n",
              "    <script>\n",
              "      const buttonEl =\n",
              "        document.querySelector('#df-b010fe05-5ad1-4b5f-b63b-6e0b34823576 button.colab-df-convert');\n",
              "      buttonEl.style.display =\n",
              "        google.colab.kernel.accessAllowed ? 'block' : 'none';\n",
              "\n",
              "      async function convertToInteractive(key) {\n",
              "        const element = document.querySelector('#df-b010fe05-5ad1-4b5f-b63b-6e0b34823576');\n",
              "        const dataTable =\n",
              "          await google.colab.kernel.invokeFunction('convertToInteractive',\n",
              "                                                    [key], {});\n",
              "        if (!dataTable) return;\n",
              "\n",
              "        const docLinkHtml = 'Like what you see? Visit the ' +\n",
              "          '<a target=\"_blank\" href=https://colab.research.google.com/notebooks/data_table.ipynb>data table notebook</a>'\n",
              "          + ' to learn more about interactive tables.';\n",
              "        element.innerHTML = '';\n",
              "        dataTable['output_type'] = 'display_data';\n",
              "        await google.colab.output.renderOutput(dataTable, element);\n",
              "        const docLink = document.createElement('div');\n",
              "        docLink.innerHTML = docLinkHtml;\n",
              "        element.appendChild(docLink);\n",
              "      }\n",
              "    </script>\n",
              "  </div>\n",
              "\n",
              "\n",
              "<div id=\"df-2ff8e7ca-a1fe-44fb-8aec-03baa455dffc\">\n",
              "  <button class=\"colab-df-quickchart\" onclick=\"quickchart('df-2ff8e7ca-a1fe-44fb-8aec-03baa455dffc')\"\n",
              "            title=\"Suggest charts\"\n",
              "            style=\"display:none;\">\n",
              "\n",
              "<svg xmlns=\"http://www.w3.org/2000/svg\" height=\"24px\"viewBox=\"0 0 24 24\"\n",
              "     width=\"24px\">\n",
              "    <g>\n",
              "        <path d=\"M19 3H5c-1.1 0-2 .9-2 2v14c0 1.1.9 2 2 2h14c1.1 0 2-.9 2-2V5c0-1.1-.9-2-2-2zM9 17H7v-7h2v7zm4 0h-2V7h2v10zm4 0h-2v-4h2v4z\"/>\n",
              "    </g>\n",
              "</svg>\n",
              "  </button>\n",
              "\n",
              "<style>\n",
              "  .colab-df-quickchart {\n",
              "      --bg-color: #E8F0FE;\n",
              "      --fill-color: #1967D2;\n",
              "      --hover-bg-color: #E2EBFA;\n",
              "      --hover-fill-color: #174EA6;\n",
              "      --disabled-fill-color: #AAA;\n",
              "      --disabled-bg-color: #DDD;\n",
              "  }\n",
              "\n",
              "  [theme=dark] .colab-df-quickchart {\n",
              "      --bg-color: #3B4455;\n",
              "      --fill-color: #D2E3FC;\n",
              "      --hover-bg-color: #434B5C;\n",
              "      --hover-fill-color: #FFFFFF;\n",
              "      --disabled-bg-color: #3B4455;\n",
              "      --disabled-fill-color: #666;\n",
              "  }\n",
              "\n",
              "  .colab-df-quickchart {\n",
              "    background-color: var(--bg-color);\n",
              "    border: none;\n",
              "    border-radius: 50%;\n",
              "    cursor: pointer;\n",
              "    display: none;\n",
              "    fill: var(--fill-color);\n",
              "    height: 32px;\n",
              "    padding: 0;\n",
              "    width: 32px;\n",
              "  }\n",
              "\n",
              "  .colab-df-quickchart:hover {\n",
              "    background-color: var(--hover-bg-color);\n",
              "    box-shadow: 0 1px 2px rgba(60, 64, 67, 0.3), 0 1px 3px 1px rgba(60, 64, 67, 0.15);\n",
              "    fill: var(--button-hover-fill-color);\n",
              "  }\n",
              "\n",
              "  .colab-df-quickchart-complete:disabled,\n",
              "  .colab-df-quickchart-complete:disabled:hover {\n",
              "    background-color: var(--disabled-bg-color);\n",
              "    fill: var(--disabled-fill-color);\n",
              "    box-shadow: none;\n",
              "  }\n",
              "\n",
              "  .colab-df-spinner {\n",
              "    border: 2px solid var(--fill-color);\n",
              "    border-color: transparent;\n",
              "    border-bottom-color: var(--fill-color);\n",
              "    animation:\n",
              "      spin 1s steps(1) infinite;\n",
              "  }\n",
              "\n",
              "  @keyframes spin {\n",
              "    0% {\n",
              "      border-color: transparent;\n",
              "      border-bottom-color: var(--fill-color);\n",
              "      border-left-color: var(--fill-color);\n",
              "    }\n",
              "    20% {\n",
              "      border-color: transparent;\n",
              "      border-left-color: var(--fill-color);\n",
              "      border-top-color: var(--fill-color);\n",
              "    }\n",
              "    30% {\n",
              "      border-color: transparent;\n",
              "      border-left-color: var(--fill-color);\n",
              "      border-top-color: var(--fill-color);\n",
              "      border-right-color: var(--fill-color);\n",
              "    }\n",
              "    40% {\n",
              "      border-color: transparent;\n",
              "      border-right-color: var(--fill-color);\n",
              "      border-top-color: var(--fill-color);\n",
              "    }\n",
              "    60% {\n",
              "      border-color: transparent;\n",
              "      border-right-color: var(--fill-color);\n",
              "    }\n",
              "    80% {\n",
              "      border-color: transparent;\n",
              "      border-right-color: var(--fill-color);\n",
              "      border-bottom-color: var(--fill-color);\n",
              "    }\n",
              "    90% {\n",
              "      border-color: transparent;\n",
              "      border-bottom-color: var(--fill-color);\n",
              "    }\n",
              "  }\n",
              "</style>\n",
              "\n",
              "  <script>\n",
              "    async function quickchart(key) {\n",
              "      const quickchartButtonEl =\n",
              "        document.querySelector('#' + key + ' button');\n",
              "      quickchartButtonEl.disabled = true;  // To prevent multiple clicks.\n",
              "      quickchartButtonEl.classList.add('colab-df-spinner');\n",
              "      try {\n",
              "        const charts = await google.colab.kernel.invokeFunction(\n",
              "            'suggestCharts', [key], {});\n",
              "      } catch (error) {\n",
              "        console.error('Error during call to suggestCharts:', error);\n",
              "      }\n",
              "      quickchartButtonEl.classList.remove('colab-df-spinner');\n",
              "      quickchartButtonEl.classList.add('colab-df-quickchart-complete');\n",
              "    }\n",
              "    (() => {\n",
              "      let quickchartButtonEl =\n",
              "        document.querySelector('#df-2ff8e7ca-a1fe-44fb-8aec-03baa455dffc button');\n",
              "      quickchartButtonEl.style.display =\n",
              "        google.colab.kernel.accessAllowed ? 'block' : 'none';\n",
              "    })();\n",
              "  </script>\n",
              "</div>\n",
              "    </div>\n",
              "  </div>\n"
            ]
          },
          "metadata": {},
          "execution_count": 19
        }
      ],
      "source": [
        "# Learn and experiment with housing price prediction data\n",
        "# Learn magic telescope data\n",
        "from scipy.io import arff\n",
        "import pandas as pd\n",
        "import numpy as np\n",
        "from sklearn.model_selection import train_test_split\n",
        "from sklearn.neighbors import KNeighborsRegressor\n",
        "from sklearn.metrics import mean_absolute_error\n",
        "from sklearn.preprocessing import MinMaxScaler\n",
        "\n",
        "\n",
        "# Load the arff file\n",
        "data, meta = arff.loadarff('housing.arff')\n",
        "house_df = pd.DataFrame(data)\n",
        "\n",
        "\n",
        "# Convert byte to strings\n",
        "house_df = house_df.applymap(lambda x: x.decode('utf-8') if isinstance(x, bytes) else x)\n",
        "house_df.info()\n",
        "\n",
        "\n",
        "X = house_df.drop('MEDV', axis=1)\n",
        "y = house_df['MEDV']\n",
        "\n",
        "# Split the data into training and testing sets\n",
        "X_train, X_test, y_train, y_test = train_test_split(X, y, test_size=0.2, random_state=None)\n",
        "\n",
        "# Train the KNeighborsClassifier with default parameters\n",
        "knn = KNeighborsRegressor(n_neighbors=3, weights=None)\n",
        "knn.fit(X_train, y_train)\n",
        "\n",
        "y_pred_train = knn.predict(X_train)\n",
        "y_pred_test = knn.predict(X_test)\n",
        "\n",
        "train_score = knn.score(X_train, y_train)\n",
        "test_score = knn.score(X_test, y_test)\n",
        "train_mae = mean_absolute_error(y_train, y_pred_train)\n",
        "test_mae = mean_absolute_error(y_test, y_pred_test)\n",
        "\n",
        "# Initialize MinMaxScaler\n",
        "scaler = MinMaxScaler()\n",
        "\n",
        "# Normalize the features\n",
        "X_train_scaled = scaler.fit_transform(X_train)\n",
        "X_test_scaled = scaler.transform(X_test)\n",
        "\n",
        "# Initialize KNeighborsRegressor with no distance weighting\n",
        "knn_norm = KNeighborsRegressor(n_neighbors=3)\n",
        "knn_norm.fit(X_train_scaled, y_train)\n",
        "\n",
        "# Make predictions on the scaled train and test sets\n",
        "y_pred_train_norm = knn_norm.predict(X_train_scaled)\n",
        "y_pred_test_norm = knn_norm.predict(X_test_scaled)\n",
        "\n",
        "# Calculate the train and test scores and MAEs\n",
        "train_score_norm = knn_norm.score(X_train_scaled, y_train)\n",
        "test_score_norm = knn_norm.score(X_test_scaled, y_test)\n",
        "train_mae_norm = mean_absolute_error(y_train, y_pred_train_norm)\n",
        "test_mae_norm = mean_absolute_error(y_test, y_pred_test_norm)\n",
        "\n",
        "# Initialize KNeighborsRegressor with distance weighting\n",
        "knn_dist = KNeighborsRegressor(n_neighbors=3, weights='distance')\n",
        "knn_dist.fit(X_train_scaled, y_train)\n",
        "\n",
        "# Make predictions on the scaled train and test sets\n",
        "y_pred_train_dist = knn_dist.predict(X_train_scaled)\n",
        "y_pred_test_dist = knn_dist.predict(X_test_scaled)\n",
        "\n",
        "# Calculate the train and test scores and MAEs\n",
        "train_score_dist = knn_dist.score(X_train_scaled, y_train)\n",
        "test_score_dist = knn_dist.score(X_test_scaled, y_test)\n",
        "train_mae_dist = mean_absolute_error(y_train, y_pred_train_dist)\n",
        "test_mae_dist = mean_absolute_error(y_test, y_pred_test_dist)\n",
        "\n",
        "# Gather all the results in a DataFrame\n",
        "results_df = pd.DataFrame({\n",
        "    'Method': ['No normalization / No distance weighting', 'Normalization / No distance weighting', 'Normalization / Distance weighting'],\n",
        "    'Train Score': [train_score, train_score_norm, train_score_dist],\n",
        "    'Test Score': [test_score, test_score_norm, test_score_dist],\n",
        "    'Train MAE': [train_mae, train_mae_norm, train_mae_dist],\n",
        "    'Test MAE': [test_mae, test_mae_norm, test_mae_dist]\n",
        "})\n",
        "\n",
        "range_df = house_df.drop('CHAS', axis=1).max() - house_df.drop('CHAS', axis=1).min()\n",
        "\n",
        "print(range_df)\n",
        "\n",
        "results_df"
      ]
    },
    {
      "cell_type": "markdown",
      "metadata": {
        "id": "_s1cE8D4Eat8"
      },
      "source": [
        "*Discuss your results*\n",
        "So the normalization and the distnace weighting is the classic problem that can happen with overfitting on the dataset when there the normalized data makes the data points really close fit perfectly into the model training. The problem is that it overfit. The knn with 3 neighbors and no normalization or weighting did extremely poorly with a test set of 50 percent. I think this makes sense though because the lack of normalization makes the ranges of all of the data really wide and not consistently wide or proportionally wide. You can see this with the range of the tax column having a tax ratio being 71000 where the NOX column is less than 1."
      ]
    },
    {
      "cell_type": "markdown",
      "metadata": {
        "id": "a3J4whSrEat8"
      },
      "source": [
        "### 3.3 (10%)  Different k Values\n",
        "- Using housing with normalized data and distance weighting, create one graph with MAE on the test set on the y-axis and k values on the x-axis\n",
        "- Use values of k from 1 to 15.  Use the same train/test split for each."
      ]
    },
    {
      "cell_type": "code",
      "execution_count": null,
      "metadata": {
        "id": "5UT-RJXGEat8",
        "colab": {
          "base_uri": "https://localhost:8080/",
          "height": 564
        },
        "outputId": "ef578561-6faa-4725-fa03-1de1adc0488b"
      },
      "outputs": [
        {
          "output_type": "display_data",
          "data": {
            "text/plain": [
              "<Figure size 1000x600 with 1 Axes>"
            ],
            "image/png": "[encoded data removed]"
          },
          "metadata": {}
        }
      ],
      "source": [
        "# Learn and graph for different k values\n",
        "import matplotlib.pyplot as plt\n",
        "\n",
        "# Prepare lists to store MAEs for different values of k\n",
        "mae_test_values = []\n",
        "\n",
        "# Loop over values of k from 1 to 15\n",
        "for k in range(1, 16):\n",
        "    # Initialize KNeighborsRegressor with current k and distance weighting\n",
        "    knn = KNeighborsRegressor(n_neighbors=k, weights='distance')\n",
        "\n",
        "    # Train the model using the normalized data\n",
        "    knn.fit(X_train_scaled, y_train)\n",
        "\n",
        "    # Predict on the test set\n",
        "    y_pred_test = knn.predict(X_test_scaled)\n",
        "\n",
        "    # Calculate the test MAE\n",
        "    mae_test = mean_absolute_error(y_test, y_pred_test)\n",
        "\n",
        "    # Append the test MAE to the list\n",
        "    mae_test_values.append(mae_test)\n",
        "\n",
        "# Plotting the MAE values against k values\n",
        "plt.figure(figsize=(10, 6))\n",
        "plt.plot(range(1, 16), mae_test_values, marker='o')\n",
        "plt.title('Test MAE vs. k values')\n",
        "plt.xlabel('k value')\n",
        "plt.ylabel('Test Mean Absolute Error (MAE)')\n",
        "plt.xticks(range(1, 16))\n",
        "plt.grid(True)\n",
        "plt.show()\n"
      ]
    },
    {
      "cell_type": "markdown",
      "metadata": {
        "id": "nTyH0QwiEat8"
      },
      "source": [
        "Discussion\n",
        "So this makes sense to me. There is a stark graph here that shows a strong drop of from the data getting more accurate for the first 4 neighbors but then it gets progressivley more inaccurate. This makes sense to me because the data normalized would look for the closest points but as we take into account more neigbors, we are going to start overfitting. and looking at points that should not be looked at. Here we see for this dataset that just purley on the neighbors with no other tuning, we are going to get best results with 4."
      ]
    },
    {
      "cell_type": "markdown",
      "metadata": {
        "id": "BhmnUhYuEat8"
      },
      "source": [
        "## 4. (20%) KNN with nominal and real data\n",
        "\n",
        "- Use the [lymph dataset](https://axon.cs.byu.edu/data/uci_class/lymph.arff)\n",
        "- Use a 80/20 split of the data for the training/test set\n",
        "- This dataset has both continuous and nominal attributes\n",
        "- Implement a distance metric which uses Euclidean distance for continuous features and 0/1 distance for nominal. Hints:\n",
        "    - Write your own distance function (e.g. mydist) and use clf = KNeighborsClassifier(metric=mydist)\n",
        "    - Change the nominal features in the data set to integer values since KNeighborsClassifier expects numeric features. I used Label_Encoder on the nominal features.\n",
        "    - Keep a list of which features are nominal which mydist can use to decide which distance measure to use\n",
        "    - There was an occasional bug in SK version 1.3.0 (\"Flags object has no attribute 'c_contiguous'\") that went away when I upgraded to the lastest SK version 1.3.1\n",
        "- Use your own choice for k and other parameters"
      ]
    },
    {
      "cell_type": "code",
      "source": [
        "!wget https://axon.cs.byu.edu/data/uci_class/lymph.arff"
      ],
      "metadata": {
        "colab": {
          "base_uri": "https://localhost:8080/"
        },
        "id": "voTdSpihtsGU",
        "outputId": "d28fdf13-7c1c-427d-e8b9-dfc305684b94"
      },
      "execution_count": null,
      "outputs": [
        {
          "output_type": "stream",
          "name": "stdout",
          "text": [
            "--2023-11-08 02:16:05--  https://axon.cs.byu.edu/data/uci_class/lymph.arff\n",
            "Resolving axon.cs.byu.edu (axon.cs.byu.edu)... 128.187.106.169\n",
            "Connecting to axon.cs.byu.edu (axon.cs.byu.edu)|128.187.106.169|:443... connected.\n",
            "HTTP request sent, awaiting response... 200 OK\n",
            "Length: 22513 (22K)\n",
            "Saving to: ‘lymph.arff’\n",
            "\n",
            "lymph.arff          100%[===================>]  21.99K  --.-KB/s    in 0.07s   \n",
            "\n",
            "2023-11-08 02:16:06 (314 KB/s) - ‘lymph.arff’ saved [22513/22513]\n",
            "\n"
          ]
        }
      ]
    },
    {
      "cell_type": "code",
      "source": [
        "def mydist(x, y):\n",
        "    \"\"\"\n",
        "    Custom distance metric.\n",
        "    Uses Euclidean distance for continuous features and 0/1 distance for nominal.\n",
        "    \"\"\"\n",
        "    # Separate continuous and nominal features using their indices\n",
        "    cont_dist = np.sqrt(np.sum((x[continuous_indices] - y[continuous_indices]) ** 2))\n",
        "\n",
        "    # 0/1 distance for nominal features\n",
        "    nom_dist = sum(1 for i, (xi, yi) in enumerate(zip(x, y)) if xi != yi and i not in continuous_indices)\n",
        "\n",
        "    # Combine the two distances\n",
        "    return cont_dist + nom_dist\n"
      ],
      "metadata": {
        "id": "Kxvygdq3sHLo"
      },
      "execution_count": null,
      "outputs": []
    },
    {
      "cell_type": "code",
      "execution_count": null,
      "metadata": {
        "id": "opfXItO2Eat8",
        "colab": {
          "base_uri": "https://localhost:8080/"
        },
        "outputId": "eff101f4-63d2-48e8-f544-00a042399907"
      },
      "outputs": [
        {
          "output_type": "stream",
          "name": "stdout",
          "text": [
            "Accuracy: 0.8\n"
          ]
        }
      ],
      "source": [
        "# Train/Predict lymph with your own distance metric\n",
        "from sklearn.model_selection import train_test_split\n",
        "from sklearn.neighbors import KNeighborsClassifier\n",
        "from sklearn.metrics import accuracy_score\n",
        "from sklearn.preprocessing import LabelEncoder\n",
        "import numpy as np\n",
        "\n",
        "# Load the dataset\n",
        "data, meta = arff.loadarff('lymph.arff')\n",
        "lymph_df = pd.DataFrame(data)\n",
        "\n",
        "# Convert byte strings to normal strings\n",
        "lymph_df = lymph_df.applymap(lambda x: x.decode('utf-8') if isinstance(x, bytes) else x)\n",
        "\n",
        "# Initialize LabelEncoder and encode the nominal columns and the class column\n",
        "label_encoders = {}\n",
        "for column in lymph_df.columns:\n",
        "    if lymph_df[column].dtype == object:  # This will include the class column\n",
        "        le = LabelEncoder()\n",
        "        lymph_df[column] = le.fit_transform(lymph_df[column])\n",
        "        label_encoders[column] = le\n",
        "\n",
        "# Split data into features and target\n",
        "X = lymph_df.drop('class', axis=1)\n",
        "y = lymph_df['class']\n",
        "\n",
        "# Define the nominal columns list after encoding\n",
        "nominal_cols = [column for column in lymph_df.columns if column in label_encoders]\n",
        "\n",
        "# Split the data into training and testing sets (80/20)\n",
        "X_train, X_test, y_train, y_test = train_test_split(X, y, test_size=0.2, random_state=42)\n",
        "\n",
        "# Identify continuous feature indices for distance calculation\n",
        "continuous_features = X.columns.difference(nominal_cols)\n",
        "continuous_indices = [X.columns.get_loc(col) for col in continuous_features]\n",
        "\n",
        "# Define the custom distance function (or make sure it is imported if defined elsewhere)\n",
        "# Ensure that 'mydist' is defined here or imported if it is in another cell\n",
        "\n",
        "# Train the KNeighborsClassifier with the custom distance metric\n",
        "clf = KNeighborsClassifier(n_neighbors=5, metric=mydist)\n",
        "clf.fit(X_train.values, y_train.values)  # Use values to pass arrays to the classifier\n",
        "\n",
        "# Predict on the test set\n",
        "y_pred = clf.predict(X_test.values)  # Use values here as well\n",
        "\n",
        "# Calculate and print the accuracy\n",
        "accuracy = accuracy_score(y_test, y_pred)\n",
        "print(f'Accuracy: {accuracy}')\n"
      ]
    },
    {
      "cell_type": "markdown",
      "metadata": {
        "id": "U_bQYcKMEauB"
      },
      "source": [
        "\\*Explain your distance metric and discuss your results*\n",
        "\n",
        "My mydist function calculates the euclidian distance for the instancees that are cont and then for the nominal features it separates them. For these nominal features, it applies a simple 0/1 distance metric, which is similar to the Hamming distance. This metric compares the elements of the nominal features and increments the distance by 1 for every mismatch. If two nominal feature values are the same, the distance does not increase; if they are different, the distance increases by 1. Then function then sums the distances calculated for a single dist value.\n",
        "\n",
        "The results that I got were ok. I got an accuracy of .8 which falls on par close to the accuracies I was getting with the other methods of distance calculation. Overall I think it is a good method."
      ]
    },
    {
      "cell_type": "markdown",
      "metadata": {
        "id": "k92RpB7KEauB"
      },
      "source": [
        "## 5. (Optional 15% extra credit) Code up your own KNN Learner\n",
        "Below is a scaffold you could use if you want. Requirements for this task:\n",
        "- Your model should support the methods shown in the example scaffold below\n",
        "- Use Euclidean distance to decide closest neighbors\n",
        "- Implement both the classification and regression versions\n",
        "- Include optional distance weighting for both algorithms\n",
        "- Run your algorithm on the magic telescope and housing data sets above and discuss and compare your results"
      ]
    },
    {
      "cell_type": "markdown",
      "metadata": {
        "id": "0f_aRuQcEauB"
      },
      "source": [
        "*Discussion*\n",
        "\n",
        "My implementation of the KNN model is mult functional for the classification and the regression tasks. I used euclidian distance for this dataset as given. Overall the changes that I had to make that are different from the normal model classification had to do with the model name of course haha and also the datatype pass in is more rigid. I had to debug lots of issues to do with the type columns and rows and once I got it to floats and stuff, it worked well. The housing dataset performed alright but the magic dataset was better scoring a pretty similar accuracy to what I was getting on the actual knn model."
      ]
    },
    {
      "cell_type": "code",
      "execution_count": 20,
      "metadata": {
        "id": "jtOwcqa1EauB"
      },
      "outputs": [],
      "source": [
        "from sklearn.base import BaseEstimator, ClassifierMixin\n",
        "from sklearn.base import BaseEstimator, ClassifierMixin\n",
        "from scipy.stats import mode\n",
        "from scipy.spatial.distance import cdist\n",
        "import numpy as np\n",
        "from sklearn.base import BaseEstimator, ClassifierMixin\n",
        "import numpy as np\n",
        "from scipy.stats import mode\n",
        "\n",
        "class KNNClassifier(BaseEstimator, ClassifierMixin):\n",
        "    def __init__(self, k=3, weight_type='uniform', mode='classification'):\n",
        "      \"\"\"\n",
        "        Args:\n",
        "            columntype for each column tells you if continues[real] or if nominal[categoritcal].\n",
        "            weight_type: inverse_distance voting or if non distance weighting. Options = [\"no_weight\",\"inverse_distance\"]\n",
        "        \"\"\"\n",
        "        self.k = k\n",
        "        self.weight_type = weight_type\n",
        "        self.mode = mode\n",
        "        self.X_train = None\n",
        "        self.y_train = None\n",
        "\n",
        "    def fit(self, X, y):\n",
        "      \"\"\" Fit the data; run the algorithm (for this lab really just saves the data :D)\n",
        "        Args:\n",
        "            X (array-like): A 2D numpy array with the training data, excluding targets\n",
        "            y (array-like): A 2D numpy array with the training targets\n",
        "        Returns:\n",
        "            self: this allows this to be chained, e.g. model.fit(X,y).predict(X_test)\n",
        "        \"\"\"\n",
        "        self.X_train = np.array(X, dtype=float)\n",
        "        # Convert labels to integer\n",
        "        self.y_train = np.array(y, dtype=int)\n",
        "        return self\n",
        "\n",
        "    def euclidean_distance(self, x, y):\n",
        "        return np.sqrt(np.sum((x - y) ** 2, axis=1))\n",
        "\n",
        "    def predict(self, X):\n",
        "      \"\"\" Predict all classes for a dataset X\n",
        "        Args:\n",
        "            X (array-like): A 2D numpy array with the training data, excluding targets\n",
        "        Returns:\n",
        "            array, shape (n_samples,)\n",
        "                Predicted target values per element in X.\n",
        "        \"\"\"\n",
        "        X = np.array(X, dtype=float)\n",
        "        distances = cdist(X, self.X_train)\n",
        "        nearest_idx = np.argsort(distances, axis=1)[:, :self.k]\n",
        "        nearest_labels = self.y_train[nearest_idx]\n",
        "\n",
        "        if self.mode == 'classification':\n",
        "            if self.weight_type == 'uniform':\n",
        "                return mode(nearest_labels, axis=1).mode.ravel()\n",
        "            else:\n",
        "                votes = np.zeros((X.shape[0], np.unique(self.y_train).size))\n",
        "                for i in range(X.shape[0]):\n",
        "                    for j in range(self.k):\n",
        "                        votes[i, nearest_labels[i, j]] += 1 / (distances[i, j] + 1e-5)\n",
        "                return np.argmax(votes, axis=1)\n",
        "        else:\n",
        "            if self.weight_type == 'uniform':\n",
        "                return np.mean(nearest_labels, axis=1)\n",
        "            else:\n",
        "                predictions = np.zeros(X.shape[0])\n",
        "                for i in range(X.shape[0]):\n",
        "                    weighted_sum = 0\n",
        "                    weight_sum = 0\n",
        "                    for j in range(self.k):\n",
        "                        weight = 1 / (distances[i, j] + 1e-5)\n",
        "                        weighted_sum += weight * self.y_train[nearest_idx[i, j]]\n",
        "                        weight_sum += weight\n",
        "                    predictions[i] = weighted_sum / weight_sum\n",
        "                return predictions\n",
        "\n",
        "    def score(self, X, y):\n",
        "       \"\"\" Return accuracy of model on a given dataset. Must implement own score function.\n",
        "        Args:\n",
        "            X (array-like): A 2D numpy array with data, excluding targets\n",
        "            y (array-like): A 2D numpy array with targets\n",
        "        Returns:\n",
        "            score : float\n",
        "                Mean accuracy of self.predict(X) wrt. y.\n",
        "        \"\"\"\n",
        "        predictions = self.predict(X)\n",
        "        if self.mode == 'classification':\n",
        "            return np.mean(predictions == y)\n",
        "        else:\n",
        "            ss_res = np.sum((y - predictions) ** 2)\n",
        "            ss_tot = np.sum((y - np.mean(y)) ** 2)\n",
        "            return 1 - (ss_res / ss_tot)\n"
      ]
    },
    {
      "cell_type": "code",
      "source": [
        "# Load the arff file\n",
        "data, meta = arff.loadarff('housing.arff')\n",
        "house_df = pd.DataFrame(data)\n",
        "\n",
        "# Convert byte strings to normal strings\n",
        "house_df = house_df.applymap(lambda x: x.decode('utf-8') if isinstance(x, bytes) else x)\n",
        "\n",
        "# Convert 'CHAS' to a numeric value. If 'CHAS' is a binary categorical feature, we can map it to 0 and 1.\n",
        "print(house_df['CHAS'].value_counts())\n",
        "\n",
        "print(house_df)\n",
        "\n",
        "# Now convert all columns to numeric\n",
        "house_df = house_df.apply(pd.to_numeric)\n",
        "\n",
        "# Check the info to ensure all columns are now numeric\n",
        "house_df.info()\n",
        "\n",
        "X = house_df.drop('MEDV', axis=1).values\n",
        "y = house_df['MEDV'].values.astype(float)  # Use float which is equivalent to np.float64\n",
        "\n",
        "# Split the data into training and testing sets\n",
        "X_train, X_test, y_train, y_test = train_test_split(X, y, test_size=0.2, random_state=42)\n",
        "\n",
        "# Initialize your custom KNN classifier for regression\n",
        "my_knn = KNNClassifier(k=12, weight_type='inverse_distance', mode='regression')\n",
        "\n",
        "# Fit the model on the training data\n",
        "my_knn.fit(X_train, y_train)\n",
        "\n",
        "# Predict on the test set\n",
        "y_pred = my_knn.predict(X_test)\n",
        "\n",
        "# Score the model on the test set\n",
        "score = my_knn.score(X_test, y_test)\n",
        "\n",
        "print(f'Test set score: {score}')\n"
      ],
      "metadata": {
        "colab": {
          "base_uri": "https://localhost:8080/"
        },
        "id": "tPrmwgxL4HP_",
        "outputId": "06f60d5c-9373-479f-a282-5cfc49857bf1"
      },
      "execution_count": 21,
      "outputs": [
        {
          "output_type": "stream",
          "name": "stdout",
          "text": [
            "0    471\n",
            "1     35\n",
            "Name: CHAS, dtype: int64\n",
            "        CRIM   ZN  INDUS CHAS    NOX     RM   AGE     DIS   RAD      TAX  \\\n",
            "0    0.02731  0.0   7.07    0  0.469  6.421  78.9  4.9671   2.0    242.0   \n",
            "1    0.02729  0.0   7.07    0  0.469  7.185  61.1  4.9671   2.0    242.0   \n",
            "2    0.03237  0.0   2.18    0  0.458  6.998  45.8  6.0622   3.0    222.0   \n",
            "3    0.06905  0.0   2.18    0  0.458  7.147  54.2  6.0622   3.0    222.0   \n",
            "4    0.02985  0.0   2.18    0  0.458  6.430  58.7  6.0622   3.0    222.0   \n",
            "..       ...  ...    ...  ...    ...    ...   ...     ...   ...      ...   \n",
            "501  4.81213  0.0  18.10    0  0.713  6.701  90.0  2.5975  24.0    666.0   \n",
            "502  4.34879  0.0  18.10    0  0.580  6.167  84.0  3.0334  24.0    666.0   \n",
            "503  5.82401  0.0  18.10    0  0.532  6.242  64.7  3.4242  24.0    666.0   \n",
            "504  0.20746  0.0  27.74    0  0.609  5.093  98.0  1.8226   4.0    711.0   \n",
            "505  0.22438  0.0   9.69    0  0.585  6.027  79.7  2.4982   6.0  71391.0   \n",
            "\n",
            "     PTRATIO       B  LSTAT  MEDV  \n",
            "0       17.8  396.90   9.14  21.6  \n",
            "1       17.8  392.83   4.03  34.7  \n",
            "2       18.7  394.63   2.94  33.4  \n",
            "3       18.7  396.90   5.33  36.2  \n",
            "4       18.7  394.12   5.21  28.7  \n",
            "..       ...     ...    ...   ...  \n",
            "501     20.2  255.23  16.42  16.4  \n",
            "502     20.2  396.90  16.29  19.9  \n",
            "503     20.2  396.90  10.74  23.0  \n",
            "504     20.1  318.43  29.68   8.1  \n",
            "505     19.2  396.90  14.33  16.8  \n",
            "\n",
            "[506 rows x 14 columns]\n",
            "<class 'pandas.core.frame.DataFrame'>\n",
            "RangeIndex: 506 entries, 0 to 505\n",
            "Data columns (total 14 columns):\n",
            " #   Column   Non-Null Count  Dtype  \n",
            "---  ------   --------------  -----  \n",
            " 0   CRIM     506 non-null    float64\n",
            " 1   ZN       506 non-null    float64\n",
            " 2   INDUS    506 non-null    float64\n",
            " 3   CHAS     506 non-null    int64  \n",
            " 4   NOX      506 non-null    float64\n",
            " 5   RM       506 non-null    float64\n",
            " 6   AGE      506 non-null    float64\n",
            " 7   DIS      506 non-null    float64\n",
            " 8   RAD      506 non-null    float64\n",
            " 9   TAX      506 non-null    float64\n",
            " 10  PTRATIO  506 non-null    float64\n",
            " 11  B        506 non-null    float64\n",
            " 12  LSTAT    506 non-null    float64\n",
            " 13  MEDV     506 non-null    float64\n",
            "dtypes: float64(13), int64(1)\n",
            "memory usage: 55.5 KB\n",
            "Test set score: 0.5578310627657743\n"
          ]
        }
      ]
    },
    {
      "cell_type": "code",
      "source": [
        "# Learn magic telescope data\n",
        "from scipy.io import arff\n",
        "import pandas as pd\n",
        "import numpy as np\n",
        "from sklearn.model_selection import train_test_split\n",
        "from sklearn.neighbors import KNeighborsClassifier\n",
        "from sklearn.metrics import accuracy_score\n",
        "\n",
        "# Load the arff file\n",
        "data, meta = arff.loadarff('MagicTelescope.arff')\n",
        "magic_df = pd.DataFrame(data)\n",
        "\n",
        "\n",
        "# Convert byte to strings\n",
        "magic_df = magic_df.applymap(lambda x: x.decode('utf-8') if isinstance(x, bytes) else x)\n",
        "\n",
        "# Map 'g' to 0 and 'h' to 1 and convert the column to float\n",
        "magic_df['class:'] = magic_df['class:'].map({'g': 0, 'h': 1}).astype(float)\n",
        "\n",
        "# Split the data into features (X) and target (y)\n",
        "X = magic_df.drop('class:', axis=1)\n",
        "y = magic_df['class:']\n",
        "\n",
        "# Check the unique values in 'y'\n",
        "print(y.unique())\n",
        "\n",
        "magic_df.info()\n",
        "\n",
        "# Split the data into training and testing sets\n",
        "X_train, X_test, y_train, y_test = train_test_split(X, y, test_size=0.2, random_state=42)\n",
        "# Convert all columns to numeric if any aren't\n",
        "X_train = X_train.apply(pd.to_numeric, errors='coerce')\n",
        "X_test = X_test.apply(pd.to_numeric, errors='coerce')\n",
        "\n",
        "\n",
        "# Initialize your custom KNN classifier for classification\n",
        "my_knn = KNNClassifier(k=12, weight_type='inverse_distance', mode='classification')\n",
        "\n",
        "# Fit the model on the training data\n",
        "my_knn.fit(X_train, y_train)\n",
        "\n",
        "# Predict on the test set\n",
        "y_pred = my_knn.predict(X_test)\n",
        "\n",
        "# Score the model on the test set\n",
        "score = my_knn.score(X_test, y_test)\n",
        "\n",
        "print(f'Test set score: {score}')\n"
      ],
      "metadata": {
        "id": "BbLz0Gcm4K2u",
        "colab": {
          "base_uri": "https://localhost:8080/"
        },
        "outputId": "08e23eb1-a241-4778-a38d-2b932f3c1e1b"
      },
      "execution_count": 22,
      "outputs": [
        {
          "output_type": "stream",
          "name": "stdout",
          "text": [
            "[0. 1.]\n",
            "<class 'pandas.core.frame.DataFrame'>\n",
            "RangeIndex: 19020 entries, 0 to 19019\n",
            "Data columns (total 11 columns):\n",
            " #   Column     Non-Null Count  Dtype  \n",
            "---  ------     --------------  -----  \n",
            " 0   fLength:   19020 non-null  float64\n",
            " 1   fWidth:    19020 non-null  float64\n",
            " 2   fSize:     19020 non-null  float64\n",
            " 3   fConc:     19020 non-null  float64\n",
            " 4   fConc1:    19020 non-null  float64\n",
            " 5   fAsym:     19020 non-null  float64\n",
            " 6   fM3Long:   19020 non-null  float64\n",
            " 7   fM3Trans:  19020 non-null  float64\n",
            " 8   fAlpha:    19020 non-null  float64\n",
            " 9   fDist:     19020 non-null  float64\n",
            " 10  class:     19020 non-null  float64\n",
            "dtypes: float64(11)\n",
            "memory usage: 1.6 MB\n",
            "Test set score: 0.8191377497371188\n"
          ]
        }
      ]
    }
  ],
  "metadata": {
    "colab": {
      "provenance": []
    },
    "kernelspec": {
      "display_name": "Python 3.10.7 64-bit",
      "language": "python",
      "name": "python3"
    },
    "language_info": {
      "codemirror_mode": {
        "name": "ipython",
        "version": 3
      },
      "file_extension": ".py",
      "mimetype": "text/x-python",
      "name": "python",
      "nbconvert_exporter": "python",
      "pygments_lexer": "ipython3",
      "version": "3.10.7"
    },
    "vscode": {
      "interpreter": {
        "hash": "aee8b7b246df8f9039afb4144a1f6fd8d2ca17a180786b69acc140d282b71a49"
      }
    }
  },
  "nbformat": 4,
  "nbformat_minor": 0
}