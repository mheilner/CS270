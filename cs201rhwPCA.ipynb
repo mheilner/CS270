{
 "cells": [
  {
   "cell_type": "code",
   "execution_count": 21,
   "metadata": {},
   "outputs": [
    {
     "data": {
      "text/plain": [
       "array([-2.22044605e-17,  2.00000000e-02])"
      ]
     },
     "execution_count": 21,
     "metadata": {},
     "output_type": "execute_result"
    }
   ],
   "source": [
    "import numpy as np\n",
    "arr = np.array([[.2,.3],\n",
    "               [-1.1,2],\n",
    "               [1,-2.2],\n",
    "               [.5,-1],\n",
    "               [-.6,1]])\n",
    "\n",
    "row_means = np.mean(arr, axis=0)\n",
    "row_means"
   ]
  },
  {
   "cell_type": "code",
   "execution_count": 24,
   "metadata": {},
   "outputs": [
    {
     "data": {
      "text/plain": [
       "array([[ 0.2 ,  0.28],\n",
       "       [-1.1 ,  1.98],\n",
       "       [ 1.  , -2.22],\n",
       "       [ 0.5 , -1.02],\n",
       "       [-0.6 ,  0.98]])"
      ]
     },
     "execution_count": 24,
     "metadata": {},
     "output_type": "execute_result"
    }
   ],
   "source": [
    "#Centered means\n",
    "arr2 = arr - row_means\n",
    "arr2"
   ]
  },
  {
   "cell_type": "code",
   "execution_count": 25,
   "metadata": {},
   "outputs": [
    {
     "name": "stdout",
     "output_type": "stream",
     "text": [
      "Covariance Matrix:\n",
      "[[ 0.715 -1.36 ]\n",
      " [-1.36   2.732]]\n"
     ]
    }
   ],
   "source": [
    "cov_matrix = np.cov(arr2, rowvar=False)  # Set rowvar to False to treat columns as variables\n",
    "\n",
    "print(\"Covariance Matrix:\")\n",
    "print(cov_matrix)"
   ]
  },
  {
   "cell_type": "code",
   "execution_count": 26,
   "metadata": {},
   "outputs": [
    {
     "name": "stdout",
     "output_type": "stream",
     "text": [
      "   Eigenvalue                                  Eigenvector\n",
      "0    0.220319   [-0.9136716651617358, 0.40645305790531433]\n",
      "1    3.214681  [-0.40645305790531433, -0.9136716651617358]\n"
     ]
    }
   ],
   "source": [
    "import pandas as pd\n",
    "cov_matrix = np.array([[0.715, -1.112],\n",
    "                      [-1.112, 2.72]])\n",
    "\n",
    "# Calculate eigenvalues and eigenvectors\n",
    "eigenvalues, eigenvectors = np.linalg.eig(cov_matrix)\n",
    "\n",
    "# Eigenvalues will be stored in eigenvalues\n",
    "# Eigenvectors will be stored in eigenvectors\n",
    "eigen_df = pd.DataFrame({'Eigenvalue': eigenvalues, 'Eigenvector': list(eigenvectors)})\n",
    "\n",
    "# Print the DataFrame\n",
    "print(eigen_df)"
   ]
  },
  {
   "cell_type": "code",
   "execution_count": 27,
   "metadata": {},
   "outputs": [
    {
     "data": {
      "text/plain": [
       "array([-0.33711868, -1.36197153,  1.62189804,  0.72871857, -0.6515264 ])"
      ]
     },
     "execution_count": 27,
     "metadata": {},
     "output_type": "execute_result"
    }
   ],
   "source": [
    "eigenvector = eigenvectors[1]\n",
    "eigenvector.reshape(-1,1)\n",
    "\n",
    "transformed_data = np.dot(arr2, eigenvector)\n",
    "transformed_data"
   ]
  }
 ],
 "metadata": {
  "kernelspec": {
   "display_name": "base",
   "language": "python",
   "name": "python3"
  },
  "language_info": {
   "codemirror_mode": {
    "name": "ipython",
    "version": 3
   },
   "file_extension": ".py",
   "mimetype": "text/x-python",
   "name": "python",
   "nbconvert_exporter": "python",
   "pygments_lexer": "ipython3",
   "version": "3.9.13"
  },
  "orig_nbformat": 4
 },
 "nbformat": 4,
 "nbformat_minor": 2
}
